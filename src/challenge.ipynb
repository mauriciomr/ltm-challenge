{
 "cells": [
  {
   "cell_type": "markdown",
   "metadata": {},
   "source": [
    "En este archivo puedes escribir lo que estimes conveniente. Te recomendamos detallar tu solución y todas las suposiciones que estás considerando. Aquí puedes ejecutar las funciones que definiste en los otros archivos de la carpeta src, medir el tiempo, memoria, etc."
   ]
  },
  {
   "cell_type": "code",
   "execution_count": null,
   "metadata": {},
   "outputs": [],
   "source": [
    "from q1_time import q1_time\n",
    "from q1_memory import q1_memory\n",
    "from q2_time import q2_time\n",
    "from q2_memory import q2_memory\n",
    "from q3_time import q3_time\n",
    "from q3_memory import q3_memory\n",
    "\n",
    "file_path = 'farmers-protest-tweets-2021-2-4.jsonl'"
   ]
  },
  {
   "cell_type": "markdown",
   "metadata": {},
   "source": [
    "Para obtener el top ten de las 10 fechass con mas twits y el usuario que mas twitio se hizo de 2 manera disttintas, ya que para el enfoque de optimizacion de memoria se prefirio ocupar bigquery de gcp para generar la query que respondiera la pregunta. \n",
    "Nota: las credenciales se cargan como variables de entorno\n"
   ]
  },
  {
   "cell_type": "code",
   "execution_count": null,
   "metadata": {},
   "outputs": [],
   "source": [
    "answer_1_by_time = q1_time(file_path)\n",
    "print(\"Top ten de fechas con mas twits y el usuario que mas tweetio [time]: \",answer_1_by_time)\n",
    "\n",
    "answer_1_by_memory = q1_memory(file_path)\n",
    "print(\"Top ten de fechas con mas twits y el usuario que mas tweetio [memory]: \",answer_1_by_memory)"
   ]
  },
  {
   "cell_type": "markdown",
   "metadata": {},
   "source": [
    "Top ten de emojis mas usados  y las cantidas de apariciones"
   ]
  },
  {
   "cell_type": "code",
   "execution_count": null,
   "metadata": {},
   "outputs": [],
   "source": [
    "answer_2_by_time = q2_time(file_path)\n",
    "print(\"Top ten de emojis mas usados [time]: \", answer_2_by_time)\n",
    "\n",
    "answer_2_by_memory = q2_memory(file_path)\n",
    "print(\"Top ten de emojis mas usados [memory]: \",answer_2_by_memory)"
   ]
  },
  {
   "cell_type": "markdown",
   "metadata": {},
   "source": [
    "Top ten de usuario con mas menciones y la cantidad de estas"
   ]
  },
  {
   "cell_type": "code",
   "execution_count": null,
   "metadata": {},
   "outputs": [],
   "source": [
    "answer_3_by_time = q3_time(file_path)\n",
    "print(\"Top ten de usuarios con mas mensiones [time]: \", answer_3_by_time)\n",
    "\n",
    "answer_3_by_memory = q3_memory(file_path)\n",
    "print(\"Top ten de usuarios con mas mensiones [memory]: \", answer_3_by_memory)"
   ]
  },
  {
   "cell_type": "code",
   "execution_count": null,
   "metadata": {},
   "outputs": [],
   "source": []
  }
 ],
 "metadata": {
  "kernelspec": {
   "display_name": "Python 3",
   "language": "python",
   "name": "python3"
  },
  "language_info": {
   "codemirror_mode": {
    "name": "ipython",
    "version": 3
   },
   "file_extension": ".py",
   "mimetype": "text/x-python",
   "name": "python",
   "nbconvert_exporter": "python",
   "pygments_lexer": "ipython3",
   "version": "3.11.9"
  },
  "orig_nbformat": 4
 },
 "nbformat": 4,
 "nbformat_minor": 2
}
